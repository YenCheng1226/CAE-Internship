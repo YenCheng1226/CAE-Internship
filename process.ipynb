{
 "cells": [
  {
   "cell_type": "code",
   "execution_count": 1,
   "metadata": {},
   "outputs": [
    {
     "name": "stderr",
     "output_type": "stream",
     "text": [
      "C:\\Users\\88690\\AppData\\Local\\Temp\\ipykernel_11676\\4282087987.py:19: DtypeWarning: Columns (1041) have mixed types. Specify dtype option on import or set low_memory=False.\n",
      "  df = pd.read_csv(file_name, sep=';', names=names, parse_dates=[['Date', 'Time']], index_col=['Date_Time'],\n",
      "C:\\Users\\88690\\AppData\\Local\\Temp\\ipykernel_11676\\4282087987.py:42: DeprecationWarning: In a future version, `df.iloc[:, i] = newvals` will attempt to set the values inplace instead of always setting a new array. To retain the old behavior, use either `df[df.columns[i]] = newvals` or, if columns are non-unique, `df.isetitem(i, newvals)`\n",
      "  df.loc[:, '1'] = pd.to_numeric(df.loc[:, '1'])\n",
      "C:\\Users\\88690\\AppData\\Local\\Temp\\ipykernel_11676\\4282087987.py:45: FutureWarning: The default value of numeric_only in DataFrameGroupBy.sum is deprecated. In a future version, numeric_only will default to False. Either specify numeric_only or select only columns which should be valid for the function.\n",
      "  df = df.resample('1T', label='right', closed='right').sum()\n"
     ]
    }
   ],
   "source": [
    "# parsivel raw data processing\n",
    "\n",
    "import pandas as pd\n",
    "import numpy as np\n",
    "import matplotlib.pyplot as plt\n",
    "import csv\n",
    "\n",
    "names = np.array(['Date', 'Time', 'Intensity of precipitation (mm/h)',\n",
    "               'Precipitation since start (mm)', 'Weather code SYNOP WaWa', 'Weather code METAR/SPECI',\n",
    "               'Weather code NWS', 'Radar reflectivity (dBz)', 'MOR Visibility (m)',\n",
    "               'Signal amplitude of Laserband', 'Number of detected particles', 'Temperature in sensor (ºC)',\n",
    "               'Heating current (A)', 'Sensor voltage (V)', 'Optics status',\n",
    "               'Kinetic Energy', 'Snow intensity (mm/h)'])\n",
    "names = np.append(names, ['%.0f' % x for x in np.arange(1, 1025)])\n",
    "names = np.append(names, ['</SPECTRUM>'])\n",
    "\n",
    "# add .csv to original Parsivel data file \n",
    "file_name = ('2022-10-10-02-24')\n",
    "df = pd.read_csv(file_name, sep=';', names=names, parse_dates=[['Date', 'Time']], index_col=['Date_Time'],\n",
    "                 dayfirst=True, infer_datetime_format=True,na_values=[''])\n",
    "\n",
    "# remove the repeating column names\n",
    "# use .copy() to avoid warning of SettingWithCopy\n",
    "# df = df.drop(df[df.iloc[:, 0] == df.iloc[0, 0]].index).copy()\n",
    "try:\n",
    "    df = df.drop(index='Date Time')\n",
    "except:\n",
    "    pass\n",
    "\n",
    "# remove the last column\n",
    "df = df.drop(['</SPECTRUM>'], axis=1)\n",
    "\n",
    "# convert data type\n",
    "df.index = pd.to_datetime(df.index, format='%d.%m.%Y %H:%M:%S') #.tz_localize('Asia/Taipei')\n",
    "df.loc[:, names[2]] = df.loc[:, names[2]].astype(float) # Intensity of precipitation (mm/h)\n",
    "\n",
    "# replace <SPECTRUM> with the value of first DSD cell\n",
    "df.loc[:, '1'] = df.loc[df.loc[:, '1'] != '<SPECTRUM>ZERO</SPECTRUM>', '1'].str[10:]\n",
    "\n",
    "# fill NaN with 0.0, convert '' to float\n",
    "df.loc[:,:] = df.loc[:,:].fillna(0.0)\n",
    "df.loc[:, '1'] = pd.to_numeric(df.loc[:, '1'])\n",
    "\n",
    "# resample by 1min\n",
    "df = df.resample('1T', label='right', closed='right').sum()\n",
    "pd.set_option('display.max_columns',None)\n",
    "\n",
    "# Export data to a csv file\n",
    "df.to_csv('2022-10-10-02-24_utc.csv')"
   ]
  }
 ],
 "metadata": {
  "kernelspec": {
   "display_name": "CAEinternship",
   "language": "python",
   "name": "python3"
  },
  "language_info": {
   "codemirror_mode": {
    "name": "ipython",
    "version": 3
   },
   "file_extension": ".py",
   "mimetype": "text/x-python",
   "name": "python",
   "nbconvert_exporter": "python",
   "pygments_lexer": "ipython3",
   "version": "3.11.3"
  },
  "orig_nbformat": 4
 },
 "nbformat": 4,
 "nbformat_minor": 2
}
